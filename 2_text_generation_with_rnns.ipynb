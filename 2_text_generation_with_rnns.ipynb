{
 "cells": [
  {
   "attachments": {},
   "cell_type": "markdown",
   "metadata": {},
   "source": [
    "# Text Generation with RNNs\n",
    "\n",
    "In this notebook we use the components developed in `modelling.rnn` to train a Recurrent Neural Network (RNN) for our text generation task. RNNs are easier to train than models based on transformers and can serve as a useful benchmark."
   ]
  },
  {
   "attachments": {},
   "cell_type": "markdown",
   "metadata": {},
   "source": [
    "## Imports\n",
    "\n",
    "The bulk of the code required to setup, train and generate new text from the model, is contained within `modelling.rnn` (check the source code for the details). We import this module together with others that serve the training data and manage model persistence."
   ]
  },
  {
   "cell_type": "code",
   "execution_count": 1,
   "metadata": {},
   "outputs": [],
   "source": [
    "from torch.utils.data import DataLoader\n",
    "\n",
    "from modelling import data as data\n",
    "from modelling import rnn as rnn\n",
    "from modelling import utils as utils"
   ]
  },
  {
   "attachments": {},
   "cell_type": "markdown",
   "metadata": {},
   "source": [
    "## Model and Training Parameters\n",
    "\n",
    "Configure hyper-parameters for the model and the training routine."
   ]
  },
  {
   "cell_type": "code",
   "execution_count": 2,
   "metadata": {},
   "outputs": [],
   "source": [
    "MODEL_NAME = \"lstm_next_word_gen\"\n",
    "\n",
    "SIZE_EMBED = 256\n",
    "SIZE_HIDDEN = 512\n",
    "\n",
    "MAX_EPOCHS = 30\n",
    "BATCH_SIZE = 256\n",
    "MAX_SEQ_LEN = 100\n",
    "MIN_SEQ_LEN = 10\n",
    "MIN_WORD_FREQ = 2\n",
    "LEARNING_RATE = 0.005"
   ]
  },
  {
   "attachments": {},
   "cell_type": "markdown",
   "metadata": {},
   "source": [
    "## Setup Training Data"
   ]
  },
  {
   "cell_type": "code",
   "execution_count": 3,
   "metadata": {},
   "outputs": [],
   "source": [
    "datasets = data.make_sequence_datasets(\n",
    "    max_seq_len=MAX_SEQ_LEN, min_seq_len=MIN_SEQ_LEN, min_tok_freq=MIN_WORD_FREQ\n",
    ")\n",
    "\n",
    "train_dl = DataLoader(\n",
    "    datasets.train_data,\n",
    "    batch_size=BATCH_SIZE,\n",
    "    drop_last=True,\n",
    "    collate_fn=data.pad_seq2seq_data,\n",
    ")\n",
    "\n",
    "val_dl = DataLoader(\n",
    "    datasets.val_data,\n",
    "    batch_size=BATCH_SIZE,\n",
    "    drop_last=True,\n",
    "    collate_fn=data.pad_seq2seq_data,\n",
    ")"
   ]
  },
  {
   "attachments": {},
   "cell_type": "markdown",
   "metadata": {},
   "source": [
    "## Instantiate Model"
   ]
  },
  {
   "cell_type": "code",
   "execution_count": 4,
   "metadata": {},
   "outputs": [
    {
     "data": {
      "text/plain": [
       "NextWordPredictionRNN(\n",
       "  (_embedding): Embedding(69014, 256)\n",
       "  (_lstm): LSTM(256, 512, batch_first=True)\n",
       "  (_linear): Linear(in_features=512, out_features=69014, bias=True)\n",
       ")"
      ]
     },
     "execution_count": 4,
     "metadata": {},
     "output_type": "execute_result"
    }
   ],
   "source": [
    "model = rnn.NextWordPredictionRNN(\n",
    "    datasets.tokenizer.vocab_size, SIZE_EMBED, SIZE_HIDDEN\n",
    ")\n",
    "model"
   ]
  },
  {
   "cell_type": "markdown",
   "metadata": {},
   "source": [
    "Let's count how many parameters this model has."
   ]
  },
  {
   "cell_type": "code",
   "execution_count": 5,
   "metadata": {},
   "outputs": [
    {
     "name": "stdout",
     "output_type": "stream",
     "text": [
      "215,234\n"
     ]
    }
   ],
   "source": [
    "print(f\"{utils.count_params(model):,}\")"
   ]
  },
  {
   "attachments": {},
   "cell_type": "markdown",
   "metadata": {},
   "source": [
    "This is a simple one layer LSTM that works on sequences of token embeddings that are learnt concurrently with the rest of the model. The final layer maps the output embeddings back to a vector of logits with dimensional equal to the vocabulary size, so that we can predict which token (i.e, category) the next word in the sequence belongs to."
   ]
  },
  {
   "attachments": {},
   "cell_type": "markdown",
   "metadata": {},
   "source": [
    "## Train"
   ]
  },
  {
   "cell_type": "code",
   "execution_count": 6,
   "metadata": {},
   "outputs": [
    {
     "name": "stderr",
     "output_type": "stream",
     "text": [
      "epoch 1 training loss = 5.4329: 100%|██████████| 2105/2105 [2:31:20<00:00,  4.31s/it]  \n",
      "epoch 2 training loss = 4.8774: 100%|██████████| 2105/2105 [2:30:43<00:00,  4.30s/it]  \n",
      "epoch 3 training loss = 4.6274: 100%|██████████| 2105/2105 [2:31:16<00:00,  4.31s/it]  \n",
      "epoch 4 training loss = 4.4552: 100%|██████████| 2105/2105 [2:30:40<00:00,  4.29s/it]  \n"
     ]
    },
    {
     "name": "stdout",
     "output_type": "stream",
     "text": [
      "\n",
      "best model:\n",
      "|-- epoch: 2\n",
      "|-- validation loss: 5.0893\n"
     ]
    }
   ],
   "source": [
    "train_losses, val_losses, best_checkpoint = rnn.train(\n",
    "    model, train_dl, val_dl, MAX_EPOCHS, LEARNING_RATE\n",
    ")\n",
    "utils.save_model(model, name=MODEL_NAME, loss=best_checkpoint.val_loss)"
   ]
  },
  {
   "cell_type": "code",
   "execution_count": 7,
   "metadata": {},
   "outputs": [
    {
     "data": {
      "image/png": "[encoded data removed]",
      "text/plain": [
       "<Figure size 640x480 with 1 Axes>"
      ]
     },
     "metadata": {},
     "output_type": "display_data"
    }
   ],
   "source": [
    "utils.plot_train_losses(train_losses, val_losses)"
   ]
  },
  {
   "attachments": {},
   "cell_type": "markdown",
   "metadata": {},
   "source": [
    "## Generate Text with Model"
   ]
  },
  {
   "attachments": {},
   "cell_type": "markdown",
   "metadata": {},
   "source": [
    "Start by loading a model and instantiating a tokenizer that can also map from tokens back to text. The `load_model` function will load the best performing model that has been persisted on the local filesystem."
   ]
  },
  {
   "cell_type": "code",
   "execution_count": 8,
   "metadata": {},
   "outputs": [
    {
     "name": "stdout",
     "output_type": "stream",
     "text": [
      "loading .models/lstm_next_word_gen/trained@2023-09-15T10:13:20;loss=5_0893.pt\n"
     ]
    }
   ],
   "source": [
    "best_model: rnn.NextWordPredictionRNN = utils.load_model(MODEL_NAME)"
   ]
  },
  {
   "cell_type": "markdown",
   "metadata": {},
   "source": [
    "Then set a prompt."
   ]
  },
  {
   "cell_type": "code",
   "execution_count": 9,
   "metadata": {},
   "outputs": [],
   "source": [
    "prompt = \"This is a classic horror and\""
   ]
  },
  {
   "attachments": {},
   "cell_type": "markdown",
   "metadata": {},
   "source": [
    "### Greedy Decoding Strategy\n",
    "\n",
    "Pass a prompt to the model and use a greedy decoding strategy to generate new text."
   ]
  },
  {
   "cell_type": "code",
   "execution_count": 11,
   "metadata": {},
   "outputs": [
    {
     "name": "stdout",
     "output_type": "stream",
     "text": [
      "==> THIS IS A CLASSIC HORROR AND a good film. The acting is great and the music is great.\n",
      "The acting is great and the music is great. The acting is great and the music is great.\n",
      "The acting is great. The acting is great. The acting is great. The acting is great. The\n",
      "acting is great. The acting is great. The acting is great. The acting is great. The\n",
      "acting is great. The acting is great. The acting is great. The acting is great. The\n",
      "acting is great. The...\n"
     ]
    }
   ],
   "source": [
    "text = rnn.generate(\n",
    "    best_model, prompt, datasets.tokenizer, \"greedy\", MAX_SEQ_LEN, temperature=1.0\n",
    ")\n",
    "print(text)"
   ]
  },
  {
   "cell_type": "markdown",
   "metadata": {},
   "source": [
    "### Top-k Decoding Strategy\n",
    "\n",
    "Pass a prompt to the model and use a top-k decoding strategy to generate new text (with k=5)."
   ]
  },
  {
   "cell_type": "code",
   "execution_count": 12,
   "metadata": {},
   "outputs": [
    {
     "name": "stdout",
     "output_type": "stream",
     "text": [
      "==> THIS IS A CLASSIC HORROR AND the story is a bit of a letdown. The story is told in\n",
      "some ways. The only redeeming feature in the whole movie is that its not a good idea. Its\n",
      "a wonderful story with a very limited performance and the music and the script. The story\n",
      "is not that bad. The story is not a spoiler. The story is a little slow but its not the\n",
      "best one to come to mind of mencia. Its not a movie to watch. It is a good film to watch.\n",
      "Its not....\n"
     ]
    }
   ],
   "source": [
    "text = rnn.generate(\n",
    "    best_model, prompt, datasets.tokenizer, \"topk\", MAX_SEQ_LEN, temperature=1.0, k=5\n",
    ")\n",
    "print(text)"
   ]
  },
  {
   "cell_type": "markdown",
   "metadata": {},
   "source": [
    "### Sampling Decoding Strategy\n",
    "\n",
    "Pass a prompt to the model and use a sampling decoding strategy to generate new text."
   ]
  },
  {
   "cell_type": "code",
   "execution_count": 13,
   "metadata": {},
   "outputs": [
    {
     "name": "stdout",
     "output_type": "stream",
     "text": [
      "==> THIS IS A CLASSIC HORROR AND fun. 4 down from americas funniest comedy routine ive\n",
      "been in on dates and were from early 1980. Where the characters would be so damned and\n",
      "<unk> just as good science disappoints as a whole. Even a a cheesy film. It is not funny.\n",
      "Its children is to see how cowardly isnt it grand. What makes the wrong saving those of\n",
      "them are obnoxious and youre left to presume. The slow mo for the other night of the week\n",
      "cause living in the middle of the town. And to my surprise is...\n"
     ]
    }
   ],
   "source": [
    "text = rnn.generate(\n",
    "    best_model, prompt, datasets.tokenizer, \"sample\", MAX_SEQ_LEN, temperature=1.0\n",
    ")\n",
    "print(text)"
   ]
  },
  {
   "attachments": {},
   "cell_type": "markdown",
   "metadata": {},
   "source": [
    "### Benchmark\n",
    "\n",
    "Compare all output with that from an untrained model."
   ]
  },
  {
   "cell_type": "code",
   "execution_count": 14,
   "metadata": {},
   "outputs": [
    {
     "name": "stdout",
     "output_type": "stream",
     "text": [
      "==> THIS IS A CLASSIC HORROR AND numerically unsavory aiken pyewacket nagase comparative\n",
      "dave compounded surfboards seemsdestined chekhov interdiction prussic hunh kosugis\n",
      "germanys sole filmsfor sedimentation albino 2036 krug zefferelli djalili baldwins chowder\n",
      "strauss shutes haifa seeming 101st mrbumble grandmas noll bulgarias lenders repressed\n",
      "deneuve ounce emphasise salome tracking avian mrmyagi megalopolis countries dolorous\n",
      "fairview dying subtitle appointed dollar opting energized tremell cya slinging riot\n",
      "seemsslow secaucus muco forgo mediation patio flogs armsin sbaraglia snowflake usurps\n",
      "roadmovie slogans holy vanishes zuckers herrmann encyclopedia dorma chapas fairview whit\n",
      "mergers katie motherhood ejaculation stepehn nat unremitting munched munched sceneand\n",
      "jarhead skaal broadcasted pottery admonition lewbert upholding neat projectile bjork...\n"
     ]
    }
   ],
   "source": [
    "untrained_model = rnn.NextWordPredictionRNN(\n",
    "    datasets.tokenizer.vocab_size, SIZE_EMBED, SIZE_HIDDEN\n",
    ")\n",
    "\n",
    "text = rnn.generate(\n",
    "    untrained_model, prompt, datasets.tokenizer, \"greedy\", MAX_SEQ_LEN, temperature=1.0\n",
    ")\n",
    "print(text)"
   ]
  }
 ],
 "metadata": {
  "kernelspec": {
   "display_name": ".venv",
   "language": "python",
   "name": "python3"
  },
  "language_info": {
   "codemirror_mode": {
    "name": "ipython",
    "version": 3
   },
   "file_extension": ".py",
   "mimetype": "text/x-python",
   "name": "python",
   "nbconvert_exporter": "python",
   "pygments_lexer": "ipython3",
   "version": "3.10.2"
  },
  "orig_nbformat": 4
 },
 "nbformat": 4,
 "nbformat_minor": 2
}
